{
  "nbformat": 4,
  "nbformat_minor": 0,
  "metadata": {
    "colab": {
      "provenance": [],
      "gpuType": "T4"
    },
    "kernelspec": {
      "name": "python3",
      "display_name": "Python 3"
    },
    "language_info": {
      "name": "python"
    },
    "accelerator": "GPU"
  },
  "cells": [
    {
      "cell_type": "code",
      "execution_count": 2,
      "metadata": {
        "id": "BmQnt03TD4Yt"
      },
      "outputs": [],
      "source": [
        "import torch"
      ]
    },
    {
      "cell_type": "code",
      "source": [
        "print(torch.__version__)"
      ],
      "metadata": {
        "colab": {
          "base_uri": "https://localhost:8080/"
        },
        "id": "q339c3OmED6d",
        "outputId": "46462058-d4b2-480b-951a-831823642867"
      },
      "execution_count": 3,
      "outputs": [
        {
          "output_type": "stream",
          "name": "stdout",
          "text": [
            "2.8.0+cu126\n"
          ]
        }
      ]
    },
    {
      "cell_type": "code",
      "source": [
        "#using empty\n",
        "a=torch.empty(2,3)"
      ],
      "metadata": {
        "id": "Byt4-6DREY1g"
      },
      "execution_count": 4,
      "outputs": []
    },
    {
      "cell_type": "code",
      "source": [
        "type(a)"
      ],
      "metadata": {
        "colab": {
          "base_uri": "https://localhost:8080/"
        },
        "id": "MmSX2r_gHODR",
        "outputId": "63336b78-b3e8-48fa-9c4d-4b33b0ff4db1"
      },
      "execution_count": 5,
      "outputs": [
        {
          "output_type": "execute_result",
          "data": {
            "text/plain": [
              "torch.Tensor"
            ]
          },
          "metadata": {},
          "execution_count": 5
        }
      ]
    },
    {
      "cell_type": "code",
      "source": [
        "#using zeros\n",
        "torch.zeros(2,3)"
      ],
      "metadata": {
        "colab": {
          "base_uri": "https://localhost:8080/"
        },
        "id": "jOJ9fhlMHQho",
        "outputId": "1cf161e0-e9da-4540-fb98-e3478790bb66"
      },
      "execution_count": 6,
      "outputs": [
        {
          "output_type": "execute_result",
          "data": {
            "text/plain": [
              "tensor([[0., 0., 0.],\n",
              "        [0., 0., 0.]])"
            ]
          },
          "metadata": {},
          "execution_count": 6
        }
      ]
    },
    {
      "cell_type": "code",
      "source": [
        "if torch.cuda.is_available():\n",
        "  print(\"GPU is avaliable!\")\n",
        "  print(f\"Using GPU {torch.cuda.get_device_name}\")\n",
        "else:\n",
        "  print(\"GPU is not avaliable!\")"
      ],
      "metadata": {
        "colab": {
          "base_uri": "https://localhost:8080/"
        },
        "id": "XOW9lCLFHYfP",
        "outputId": "4f9b78f8-85e3-44f2-b6f1-a6857e200aa7"
      },
      "execution_count": 7,
      "outputs": [
        {
          "output_type": "stream",
          "name": "stdout",
          "text": [
            "GPU is avaliable!\n",
            "Using GPU <function get_device_name at 0x7a62eb733ce0>\n"
          ]
        }
      ]
    },
    {
      "cell_type": "code",
      "source": [
        "#using rand\n",
        "torch.rand(2,3)"
      ],
      "metadata": {
        "colab": {
          "base_uri": "https://localhost:8080/"
        },
        "id": "pvJN_GMkH6ZA",
        "outputId": "20b5035f-0b8c-459b-db5a-41890a021ee7"
      },
      "execution_count": 8,
      "outputs": [
        {
          "output_type": "execute_result",
          "data": {
            "text/plain": [
              "tensor([[0.9539, 0.6667, 0.6987],\n",
              "        [0.4114, 0.7741, 0.8059]])"
            ]
          },
          "metadata": {},
          "execution_count": 8
        }
      ]
    },
    {
      "cell_type": "code",
      "source": [
        "torch.manual_seed(50)\n",
        "b=torch.rand(2,3)"
      ],
      "metadata": {
        "id": "D6FKQbeVIN2K"
      },
      "execution_count": 9,
      "outputs": []
    },
    {
      "cell_type": "code",
      "source": [
        "b"
      ],
      "metadata": {
        "colab": {
          "base_uri": "https://localhost:8080/"
        },
        "id": "7x9ZGN6DIUaO",
        "outputId": "069d2d44-82c4-454c-a52f-ab968016a7cf"
      },
      "execution_count": 10,
      "outputs": [
        {
          "output_type": "execute_result",
          "data": {
            "text/plain": [
              "tensor([[0.6180, 0.0687, 0.3893],\n",
              "        [0.0404, 0.4013, 0.1442]])"
            ]
          },
          "metadata": {},
          "execution_count": 10
        }
      ]
    },
    {
      "cell_type": "code",
      "source": [
        "b"
      ],
      "metadata": {
        "colab": {
          "base_uri": "https://localhost:8080/"
        },
        "id": "3X4pgHF9IbeB",
        "outputId": "a11a96ac-233d-4d60-fa12-8f9e345d3496"
      },
      "execution_count": 11,
      "outputs": [
        {
          "output_type": "execute_result",
          "data": {
            "text/plain": [
              "tensor([[0.6180, 0.0687, 0.3893],\n",
              "        [0.0404, 0.4013, 0.1442]])"
            ]
          },
          "metadata": {},
          "execution_count": 11
        }
      ]
    },
    {
      "cell_type": "code",
      "source": [
        "#Using tensor\n",
        "torch.tensor(([1,2,3],[4,5,5]))"
      ],
      "metadata": {
        "colab": {
          "base_uri": "https://localhost:8080/"
        },
        "id": "ItJihO_xIch_",
        "outputId": "cee73f97-66aa-47f5-b714-0cf50bb808b9"
      },
      "execution_count": 12,
      "outputs": [
        {
          "output_type": "execute_result",
          "data": {
            "text/plain": [
              "tensor([[1, 2, 3],\n",
              "        [4, 5, 5]])"
            ]
          },
          "metadata": {},
          "execution_count": 12
        }
      ]
    },
    {
      "cell_type": "code",
      "source": [
        "#Using arrange\n",
        "print(torch.arange(0,10,2))\n",
        "\n",
        "# Using linspace\n",
        "print(torch.linspace(0,10,5))\n",
        "\n",
        "# Using Eye\n",
        "\n",
        "print(torch.eye(5))\n",
        "\n",
        "# using full\n",
        "print(torch.full((3,3),5))"
      ],
      "metadata": {
        "colab": {
          "base_uri": "https://localhost:8080/"
        },
        "id": "2tsS5viHIwW9",
        "outputId": "93a17848-4721-48ea-bfcd-fd3273112312"
      },
      "execution_count": 13,
      "outputs": [
        {
          "output_type": "stream",
          "name": "stdout",
          "text": [
            "tensor([0, 2, 4, 6, 8])\n",
            "tensor([ 0.0000,  2.5000,  5.0000,  7.5000, 10.0000])\n",
            "tensor([[1., 0., 0., 0., 0.],\n",
            "        [0., 1., 0., 0., 0.],\n",
            "        [0., 0., 1., 0., 0.],\n",
            "        [0., 0., 0., 1., 0.],\n",
            "        [0., 0., 0., 0., 1.]])\n",
            "tensor([[5, 5, 5],\n",
            "        [5, 5, 5],\n",
            "        [5, 5, 5]])\n"
          ]
        }
      ]
    },
    {
      "cell_type": "markdown",
      "source": [
        "DATA TYPES"
      ],
      "metadata": {
        "id": "D1yoNxFqM9rA"
      }
    },
    {
      "cell_type": "code",
      "source": [
        "x=torch.tensor([[1,2,3],[4,5,6]])\n",
        "x"
      ],
      "metadata": {
        "colab": {
          "base_uri": "https://localhost:8080/"
        },
        "id": "J3coSelQJbDx",
        "outputId": "24e34af0-3990-403a-ecca-c2279a32b181"
      },
      "execution_count": 14,
      "outputs": [
        {
          "output_type": "execute_result",
          "data": {
            "text/plain": [
              "tensor([[1, 2, 3],\n",
              "        [4, 5, 6]])"
            ]
          },
          "metadata": {},
          "execution_count": 14
        }
      ]
    },
    {
      "cell_type": "code",
      "source": [
        "x.dtype"
      ],
      "metadata": {
        "colab": {
          "base_uri": "https://localhost:8080/"
        },
        "id": "XWiaMpaZNHke",
        "outputId": "39ba601f-dbb1-4dde-9740-e4bbd0f00e50"
      },
      "execution_count": 15,
      "outputs": [
        {
          "output_type": "execute_result",
          "data": {
            "text/plain": [
              "torch.int64"
            ]
          },
          "metadata": {},
          "execution_count": 15
        }
      ]
    },
    {
      "cell_type": "code",
      "source": [
        "torch.zeros_like(x)"
      ],
      "metadata": {
        "colab": {
          "base_uri": "https://localhost:8080/"
        },
        "id": "0i5HvYR9NJ54",
        "outputId": "2f0cc1b3-3cfa-4d63-c89b-23726678f02a"
      },
      "execution_count": 16,
      "outputs": [
        {
          "output_type": "execute_result",
          "data": {
            "text/plain": [
              "tensor([[0, 0, 0],\n",
              "        [0, 0, 0]])"
            ]
          },
          "metadata": {},
          "execution_count": 16
        }
      ]
    },
    {
      "cell_type": "code",
      "source": [
        "torch.ones_like(x)"
      ],
      "metadata": {
        "colab": {
          "base_uri": "https://localhost:8080/"
        },
        "id": "c5twGTbqNUMC",
        "outputId": "67a77fbb-ecae-4b00-869c-0f3d5b24ddbb"
      },
      "execution_count": 17,
      "outputs": [
        {
          "output_type": "execute_result",
          "data": {
            "text/plain": [
              "tensor([[1, 1, 1],\n",
              "        [1, 1, 1]])"
            ]
          },
          "metadata": {},
          "execution_count": 17
        }
      ]
    },
    {
      "cell_type": "markdown",
      "source": [
        "Mathemetical Operarions"
      ],
      "metadata": {
        "id": "XrYGOSIWNbmU"
      }
    },
    {
      "cell_type": "code",
      "source": [
        "torch.tensor([[1,2,3],[4,5,6]],dtype=float)"
      ],
      "metadata": {
        "colab": {
          "base_uri": "https://localhost:8080/"
        },
        "id": "y1jHooDZNXCU",
        "outputId": "4d5a22b9-8238-4b75-ba16-243137094536"
      },
      "execution_count": 18,
      "outputs": [
        {
          "output_type": "execute_result",
          "data": {
            "text/plain": [
              "tensor([[1., 2., 3.],\n",
              "        [4., 5., 6.]], dtype=torch.float64)"
            ]
          },
          "metadata": {},
          "execution_count": 18
        }
      ]
    },
    {
      "cell_type": "code",
      "source": [
        "#Using to\n",
        "x.to(torch.float32)"
      ],
      "metadata": {
        "colab": {
          "base_uri": "https://localhost:8080/"
        },
        "id": "NpvTWEv1NqS6",
        "outputId": "a0e9b4e4-c753-4a69-ec33-50069099c4dd"
      },
      "execution_count": 19,
      "outputs": [
        {
          "output_type": "execute_result",
          "data": {
            "text/plain": [
              "tensor([[1., 2., 3.],\n",
              "        [4., 5., 6.]])"
            ]
          },
          "metadata": {},
          "execution_count": 19
        }
      ]
    },
    {
      "cell_type": "markdown",
      "source": [
        "Matrix operations"
      ],
      "metadata": {
        "id": "RxPkg_LvHSv9"
      }
    },
    {
      "cell_type": "code",
      "source": [
        "f=torch.randint(0,10,(3,3))\n",
        "g=torch.randint(0,11,(3,3))\n",
        "print(f)\n",
        "print(g)"
      ],
      "metadata": {
        "id": "-w4nGoUQN3lk",
        "colab": {
          "base_uri": "https://localhost:8080/"
        },
        "outputId": "6222c1d0-a4b1-4d4a-9483-9706d831f5fa"
      },
      "execution_count": 20,
      "outputs": [
        {
          "output_type": "stream",
          "name": "stdout",
          "text": [
            "tensor([[4, 0, 5],\n",
            "        [4, 8, 7],\n",
            "        [5, 0, 7]])\n",
            "tensor([[8, 4, 2],\n",
            "        [8, 7, 1],\n",
            "        [0, 9, 2]])\n"
          ]
        }
      ]
    },
    {
      "cell_type": "code",
      "source": [
        "#matrix multiplication\n",
        "matmul=torch.matmul(f,g)\n",
        "matmul"
      ],
      "metadata": {
        "colab": {
          "base_uri": "https://localhost:8080/"
        },
        "id": "IPRiedsOIHw1",
        "outputId": "2eb86a5f-0a53-4259-bf54-c7288c4a8958"
      },
      "execution_count": 21,
      "outputs": [
        {
          "output_type": "execute_result",
          "data": {
            "text/plain": [
              "tensor([[ 32,  61,  18],\n",
              "        [ 96, 135,  30],\n",
              "        [ 40,  83,  24]])"
            ]
          },
          "metadata": {},
          "execution_count": 21
        }
      ]
    },
    {
      "cell_type": "code",
      "source": [
        "v1=torch.tensor([1,2])\n",
        "v2=torch.tensor([3,4])\n",
        "torch.dot(v1,v2)"
      ],
      "metadata": {
        "colab": {
          "base_uri": "https://localhost:8080/"
        },
        "id": "b2rexfn7Icci",
        "outputId": "bb1ba8e2-5812-4868-e8fe-912a2471958d"
      },
      "execution_count": 22,
      "outputs": [
        {
          "output_type": "execute_result",
          "data": {
            "text/plain": [
              "tensor(11)"
            ]
          },
          "metadata": {},
          "execution_count": 22
        }
      ]
    },
    {
      "cell_type": "code",
      "source": [
        "torch.transpose(f,0,1)"
      ],
      "metadata": {
        "colab": {
          "base_uri": "https://localhost:8080/"
        },
        "id": "uEaQ4r_eIokf",
        "outputId": "d7e8e035-2b22-428a-eabf-5904383da048"
      },
      "execution_count": 23,
      "outputs": [
        {
          "output_type": "execute_result",
          "data": {
            "text/plain": [
              "tensor([[4, 4, 5],\n",
              "        [0, 8, 0],\n",
              "        [5, 7, 7]])"
            ]
          },
          "metadata": {},
          "execution_count": 23
        }
      ]
    },
    {
      "cell_type": "code",
      "source": [
        "# determinent\n",
        "\n",
        "h=torch.randint(size=(2,2),low=0,high=10,dtype=torch.float32)\n",
        "torch.det(h)"
      ],
      "metadata": {
        "colab": {
          "base_uri": "https://localhost:8080/"
        },
        "id": "-p4pcG-RIpl5",
        "outputId": "53f8d6e6-dad8-4e8b-d34a-e687b217d649"
      },
      "execution_count": 24,
      "outputs": [
        {
          "output_type": "execute_result",
          "data": {
            "text/plain": [
              "tensor(22.)"
            ]
          },
          "metadata": {},
          "execution_count": 24
        }
      ]
    },
    {
      "cell_type": "code",
      "source": [
        "torch.inverse(h)"
      ],
      "metadata": {
        "colab": {
          "base_uri": "https://localhost:8080/"
        },
        "id": "Q3ufbQerJkX-",
        "outputId": "9d31b210-4402-4763-b430-c37354cbee03"
      },
      "execution_count": 25,
      "outputs": [
        {
          "output_type": "execute_result",
          "data": {
            "text/plain": [
              "tensor([[ 0.4091, -0.1818],\n",
              "        [-0.3636,  0.2727]])"
            ]
          },
          "metadata": {},
          "execution_count": 25
        }
      ]
    },
    {
      "cell_type": "code",
      "source": [
        "i=torch.randint(size=(2,2),low=0,high=10)\n",
        "j=torch.randint(0,10,(2,2))\n",
        "print(i)\n",
        "print(j)"
      ],
      "metadata": {
        "colab": {
          "base_uri": "https://localhost:8080/"
        },
        "id": "eUilQr9UKLEe",
        "outputId": "4b2ab8b3-8c0d-4973-922a-a22f9c07ac9a"
      },
      "execution_count": 26,
      "outputs": [
        {
          "output_type": "stream",
          "name": "stdout",
          "text": [
            "tensor([[9, 9],\n",
            "        [1, 8]])\n",
            "tensor([[3, 4],\n",
            "        [2, 1]])\n"
          ]
        }
      ]
    },
    {
      "cell_type": "code",
      "source": [
        "i>j\n",
        "\n",
        "#checking lessthan\n",
        "i<j\n",
        "\n",
        "#equal\n",
        "i==j\n",
        "\n",
        "#not equal\n",
        "i!=j\n",
        "i>j\n",
        "i>=j\n",
        "i<=j"
      ],
      "metadata": {
        "colab": {
          "base_uri": "https://localhost:8080/"
        },
        "id": "7GZBdf2_KtGb",
        "outputId": "411d67d7-c5a1-40a5-ee89-732ab9c99822"
      },
      "execution_count": 27,
      "outputs": [
        {
          "output_type": "execute_result",
          "data": {
            "text/plain": [
              "tensor([[False, False],\n",
              "        [ True, False]])"
            ]
          },
          "metadata": {},
          "execution_count": 27
        }
      ]
    },
    {
      "cell_type": "markdown",
      "source": [
        "Special Functions"
      ],
      "metadata": {
        "id": "kKV7rAhNL4IT"
      }
    },
    {
      "cell_type": "code",
      "source": [
        "k=torch.randint(0,10,(2,3),dtype=float)\n",
        "torch.exp(k)"
      ],
      "metadata": {
        "colab": {
          "base_uri": "https://localhost:8080/"
        },
        "id": "3rPGWTB5K13S",
        "outputId": "2c78c714-abc4-468b-b1cf-004e8cf991fb"
      },
      "execution_count": 28,
      "outputs": [
        {
          "output_type": "execute_result",
          "data": {
            "text/plain": [
              "tensor([[5.4598e+01, 2.0086e+01, 2.9810e+03],\n",
              "        [2.0086e+01, 1.0000e+00, 2.7183e+00]], dtype=torch.float64)"
            ]
          },
          "metadata": {},
          "execution_count": 28
        }
      ]
    },
    {
      "cell_type": "code",
      "source": [
        "torch.log(k)"
      ],
      "metadata": {
        "colab": {
          "base_uri": "https://localhost:8080/"
        },
        "id": "cuboZHWfMQuS",
        "outputId": "09dd13bf-42ac-41df-f4ae-af20ca4dd228"
      },
      "execution_count": 29,
      "outputs": [
        {
          "output_type": "execute_result",
          "data": {
            "text/plain": [
              "tensor([[1.3863, 1.0986, 2.0794],\n",
              "        [1.0986,   -inf, 0.0000]], dtype=torch.float64)"
            ]
          },
          "metadata": {},
          "execution_count": 29
        }
      ]
    },
    {
      "cell_type": "code",
      "source": [
        "k"
      ],
      "metadata": {
        "colab": {
          "base_uri": "https://localhost:8080/"
        },
        "id": "JGEGcDIGMVbK",
        "outputId": "819841b6-8ca9-4485-acb0-47257023647c"
      },
      "execution_count": 30,
      "outputs": [
        {
          "output_type": "execute_result",
          "data": {
            "text/plain": [
              "tensor([[4., 3., 8.],\n",
              "        [3., 0., 1.]], dtype=torch.float64)"
            ]
          },
          "metadata": {},
          "execution_count": 30
        }
      ]
    },
    {
      "cell_type": "code",
      "source": [
        "torch.softmax(k,dim=1)# k should be in float"
      ],
      "metadata": {
        "colab": {
          "base_uri": "https://localhost:8080/"
        },
        "id": "6-9oUsMNMWv4",
        "outputId": "1b253d4e-ee20-4c47-cb73-6479610b325a"
      },
      "execution_count": 31,
      "outputs": [
        {
          "output_type": "execute_result",
          "data": {
            "text/plain": [
              "tensor([[0.0179, 0.0066, 0.9756],\n",
              "        [0.8438, 0.0420, 0.1142]], dtype=torch.float64)"
            ]
          },
          "metadata": {},
          "execution_count": 31
        }
      ]
    },
    {
      "cell_type": "code",
      "source": [
        "torch.relu(k)## Relu should be work in float as well as int\n"
      ],
      "metadata": {
        "colab": {
          "base_uri": "https://localhost:8080/"
        },
        "id": "oCMMhkEfMZEI",
        "outputId": "35ed9a62-109c-43a4-d487-58ff961d2ccb"
      },
      "execution_count": 32,
      "outputs": [
        {
          "output_type": "execute_result",
          "data": {
            "text/plain": [
              "tensor([[4., 3., 8.],\n",
              "        [3., 0., 1.]], dtype=torch.float64)"
            ]
          },
          "metadata": {},
          "execution_count": 32
        }
      ]
    },
    {
      "cell_type": "markdown",
      "source": [
        "Inplace ops"
      ],
      "metadata": {
        "id": "Hi-g5I4QNN05"
      }
    },
    {
      "cell_type": "code",
      "source": [
        "l=torch.rand(2,2)\n",
        "print(l)\n",
        "m=torch.rand(2,2)\n",
        "print(m)"
      ],
      "metadata": {
        "colab": {
          "base_uri": "https://localhost:8080/"
        },
        "id": "MTcIRguHMs_d",
        "outputId": "a4831e96-cb45-4ad2-f18c-07b8b5e1a6b5"
      },
      "execution_count": 33,
      "outputs": [
        {
          "output_type": "stream",
          "name": "stdout",
          "text": [
            "tensor([[0.1705, 0.2914],\n",
            "        [0.5682, 0.0380]])\n",
            "tensor([[0.2715, 0.6987],\n",
            "        [0.0944, 0.6719]])\n"
          ]
        }
      ]
    },
    {
      "cell_type": "code",
      "source": [
        "torch.relu(l)"
      ],
      "metadata": {
        "colab": {
          "base_uri": "https://localhost:8080/"
        },
        "id": "lQx7Z-JGNoeW",
        "outputId": "d42c6d70-5ca7-459f-bb46-75e12eabcbc0"
      },
      "execution_count": 34,
      "outputs": [
        {
          "output_type": "execute_result",
          "data": {
            "text/plain": [
              "tensor([[0.1705, 0.2914],\n",
              "        [0.5682, 0.0380]])"
            ]
          },
          "metadata": {},
          "execution_count": 34
        }
      ]
    },
    {
      "cell_type": "code",
      "source": [
        "torch.relu(m)"
      ],
      "metadata": {
        "colab": {
          "base_uri": "https://localhost:8080/"
        },
        "id": "S7PdZDD_N2T8",
        "outputId": "85c52f3b-c702-4429-a884-60c939d24f40"
      },
      "execution_count": 35,
      "outputs": [
        {
          "output_type": "execute_result",
          "data": {
            "text/plain": [
              "tensor([[0.2715, 0.6987],\n",
              "        [0.0944, 0.6719]])"
            ]
          },
          "metadata": {},
          "execution_count": 35
        }
      ]
    },
    {
      "cell_type": "code",
      "source": [
        "l.add(m)"
      ],
      "metadata": {
        "colab": {
          "base_uri": "https://localhost:8080/"
        },
        "id": "G4Teye7yOJEp",
        "outputId": "2690218b-e2ec-4789-e675-c4179a062246"
      },
      "execution_count": 36,
      "outputs": [
        {
          "output_type": "execute_result",
          "data": {
            "text/plain": [
              "tensor([[0.4420, 0.9901],\n",
              "        [0.6627, 0.7099]])"
            ]
          },
          "metadata": {},
          "execution_count": 36
        }
      ]
    },
    {
      "cell_type": "markdown",
      "source": [
        "Copying a tensor"
      ],
      "metadata": {
        "id": "iIBVOT46Ozey"
      }
    },
    {
      "cell_type": "code",
      "source": [
        "a=torch.randint(size=(3,3),low=0,high=10)\n",
        "a"
      ],
      "metadata": {
        "colab": {
          "base_uri": "https://localhost:8080/"
        },
        "id": "7-WoC1HjOSyy",
        "outputId": "c044bdd7-5dc3-4a7e-e54f-0bb3a1a7b1aa"
      },
      "execution_count": 37,
      "outputs": [
        {
          "output_type": "execute_result",
          "data": {
            "text/plain": [
              "tensor([[7, 0, 6],\n",
              "        [2, 2, 1],\n",
              "        [8, 3, 1]])"
            ]
          },
          "metadata": {},
          "execution_count": 37
        }
      ]
    },
    {
      "cell_type": "markdown",
      "source": [
        "Tensor Operations"
      ],
      "metadata": {
        "id": "Zi2Ul9CRbp_D"
      }
    },
    {
      "cell_type": "code",
      "source": [
        "torch.cuda.is_available()"
      ],
      "metadata": {
        "colab": {
          "base_uri": "https://localhost:8080/"
        },
        "id": "EuzBTKFPO9mE",
        "outputId": "3c77d5db-6194-4af7-eaba-d1b71df154a9"
      },
      "execution_count": 38,
      "outputs": [
        {
          "output_type": "execute_result",
          "data": {
            "text/plain": [
              "True"
            ]
          },
          "metadata": {},
          "execution_count": 38
        }
      ]
    },
    {
      "cell_type": "code",
      "source": [
        "device=torch.device('cuda')"
      ],
      "metadata": {
        "id": "zCiLugkFcAtv"
      },
      "execution_count": 39,
      "outputs": []
    },
    {
      "cell_type": "code",
      "source": [
        "torch.rand((2,3),device=device)"
      ],
      "metadata": {
        "colab": {
          "base_uri": "https://localhost:8080/"
        },
        "id": "IaxDVsiDcFCf",
        "outputId": "574de936-10b9-417d-f8c8-63e1eb3a4837"
      },
      "execution_count": 40,
      "outputs": [
        {
          "output_type": "execute_result",
          "data": {
            "text/plain": [
              "tensor([[0.3146, 0.1458, 0.3482],\n",
              "        [0.9447, 0.1015, 0.8101]], device='cuda:0')"
            ]
          },
          "metadata": {},
          "execution_count": 40
        }
      ]
    },
    {
      "cell_type": "code",
      "source": [
        "#convering the existing tensor into gpu tensor\n",
        "b=torch.rand((2,3))\n",
        "b"
      ],
      "metadata": {
        "colab": {
          "base_uri": "https://localhost:8080/"
        },
        "id": "zhbqzMjfe2mh",
        "outputId": "cc68adf5-3790-4ac9-f9b2-21949368c7be"
      },
      "execution_count": 41,
      "outputs": [
        {
          "output_type": "execute_result",
          "data": {
            "text/plain": [
              "tensor([[0.3880, 0.1319, 0.5018],\n",
              "        [0.8077, 0.9322, 0.5680]])"
            ]
          },
          "metadata": {},
          "execution_count": 41
        }
      ]
    },
    {
      "cell_type": "code",
      "source": [
        "a=b.to(device)\n",
        "a"
      ],
      "metadata": {
        "colab": {
          "base_uri": "https://localhost:8080/"
        },
        "id": "-6kgn2xSfEWs",
        "outputId": "9d1579c2-1d1d-4f8e-f61b-ed952df57b05"
      },
      "execution_count": 42,
      "outputs": [
        {
          "output_type": "execute_result",
          "data": {
            "text/plain": [
              "tensor([[0.3880, 0.1319, 0.5018],\n",
              "        [0.8077, 0.9322, 0.5680]], device='cuda:0')"
            ]
          },
          "metadata": {},
          "execution_count": 42
        }
      ]
    },
    {
      "cell_type": "code",
      "source": [],
      "metadata": {
        "id": "YZ4vS2cZfN1l"
      },
      "execution_count": 42,
      "outputs": []
    },
    {
      "cell_type": "markdown",
      "source": [
        "Checking the Time differnce between the tensors"
      ],
      "metadata": {
        "id": "xLfUZWy3fUJm"
      }
    },
    {
      "cell_type": "code",
      "source": [
        "import time\n",
        "mat1=torch.rand((1000,1000))\n",
        "mat2=torch.rand((1000,1000))\n",
        "\n",
        "start_time=time.time()\n",
        "result_cpu=torch.matmul(mat1,mat2)\n",
        "cpu_time=time.time()-start_time\n",
        "print(f\"CPU time: {cpu_time:.4f}\")\n",
        "\n",
        "matgpu1=mat1.to('cuda')\n",
        "matgpu2=mat2.to('cuda')\n",
        "\n",
        "start_time=time.time()\n",
        "result_gpu=torch.matmul(matgpu1,matgpu2)\n",
        "torch.cuda.synchronize()\n",
        "gpu_time=time.time()-start_time\n",
        "print(f\"Gpu time:{gpu_time:.4f}\")"
      ],
      "metadata": {
        "colab": {
          "base_uri": "https://localhost:8080/"
        },
        "id": "1_pDXNWWfOnR",
        "outputId": "671e4c68-e658-48e0-a877-701ac7dfbe55"
      },
      "execution_count": 48,
      "outputs": [
        {
          "output_type": "stream",
          "name": "stdout",
          "text": [
            "CPU time: 0.0645\n",
            "Gpu time:0.0048\n"
          ]
        }
      ]
    },
    {
      "cell_type": "code",
      "source": [],
      "metadata": {
        "id": "ynVg0QwvrSzS"
      },
      "execution_count": 43,
      "outputs": []
    }
  ]
}